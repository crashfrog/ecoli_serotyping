{
 "cells": [
  {
   "cell_type": "code",
   "execution_count": 1,
   "metadata": {},
   "outputs": [],
   "source": [
    "import pandas as pd\n",
    "import numpy as np\n",
    "import os\n",
    "import re"
   ]
  },
  {
   "cell_type": "code",
   "execution_count": 2,
   "metadata": {},
   "outputs": [],
   "source": [
    "# General functions\n",
    "def get_diff_row(df1, df2, on):\n",
    "    df = df1.merge(df2, on=on, how='outer', indicator=True)\n",
    "    return (df[df._merge!='both'])\n",
    "\n",
    "def summarize_result(result_df):\n",
    "    \n",
    "    df = result_df.copy()\n",
    "    # Summary\n",
    "    def getSerotypeSummary(antigen, df):\n",
    "        # get number of given serotypes\n",
    "        total_s = df['given_'+antigen].notnull()\n",
    "        num_total = df[total_s].shape[0]\n",
    "        print(\"number of given_\"+antigen+\" serotypes is %d\"\n",
    "                %num_total)\n",
    "        # get number of unpredicted serotype\n",
    "        unpredicted_s = total_s & df['predicted_'+antigen].isnull()\n",
    "        num_unpredicted = (df[unpredicted_s].shape[0])\n",
    "        print(\"number of unpredicted_\"+antigen+\" serotypes is %d or %.2f%%\"\n",
    "                %(num_unpredicted, num_unpredicted/num_total*100))\n",
    "        correct_s = total_s & ~unpredicted_s & (df['given_'+antigen]==df['predicted_'+antigen])\n",
    "        correct_df = df[correct_s]\n",
    "        num_correct = df[correct_s].shape[0]\n",
    "        print(\"number of correctly predicted_\"+antigen+\" serotypes is %d or %.2f%%\"\n",
    "                %(num_correct, num_correct/num_total*100))\n",
    "        incorrect_s = total_s & ~unpredicted_s & ~correct_s\n",
    "        num_incorrect = df[incorrect_s].shape[0]\n",
    "        print(\"number of incorrectly predicted_\"+antigen+\" serotypes is %d or %.2f%%\"\n",
    "                %(num_incorrect, num_incorrect/num_total*100))\n",
    "        result_dfs = {\n",
    "            'concordance': df[correct_s],\n",
    "            'discrepancies': df[incorrect_s],\n",
    "            'unpredicted': df[unpredicted_s]\n",
    "        }\n",
    "        return result_dfs, num_total, num_correct, num_incorrect\n",
    "    result_dict = {}\n",
    "    given_count = 0\n",
    "    correct_count = 0\n",
    "    incorrect_count = 0\n",
    "    for antigen in ['O', 'H']:\n",
    "        result_dfs, num_total, num_correct, num_incorrect = getSerotypeSummary(antigen, df)\n",
    "        result_dict[antigen] = result_dfs\n",
    "        given_count += num_total; correct_count+=num_correct;incorrect_count+=num_incorrect\n",
    "    print(\"Overall concordance=%.2f%%(%d/%d)\" %(correct_count/given_count*100, correct_count,given_count))\n",
    "    print(\"Overall discrepancies=%.2f%%(%d/%d)\" %(incorrect_count/given_count*100, incorrect_count, given_count))\n",
    "\n",
    "    return result_dict"
   ]
  },
  {
   "cell_type": "code",
   "execution_count": 3,
   "metadata": {},
   "outputs": [],
   "source": [
    "# Genbank only functions\n",
    "def parse_assembly_summary(file):\n",
    "    df = pd.read_csv(file, sep='\\t', index_col='assembly_accession')\n",
    "    \n",
    "    # Get genome name\n",
    "    df['genome_name'] = pd.DataFrame(df['ftp_path'].str.split('/', expand=True).iloc[:,-1])\n",
    "\n",
    "    # Add O serotype info\n",
    "    serotype_re = '(?<![A-z])(O\\d{1,3})'\n",
    "    df['given_O'] = df['organism_name'].str.extract(serotype_re, expand=False)\n",
    "    df.given_O.fillna(df['infraspecific_name'].str.extract(serotype_re, expand=False), inplace=True)\n",
    "\n",
    "    # Add H serotype info\n",
    "    serotype_re2 = '\\:(H\\d{1,2})'\n",
    "    df['given_H'] = df['organism_name'].str.extract(serotype_re2, expand=False)\n",
    "    df.given_H.fillna(df['infraspecific_name'].str.extract(serotype_re2, expand=False), inplace=True)\n",
    "\n",
    "    # Remove rows without serotype\n",
    "    df = df[df['given_O'].notnull() | df['given_H'].notnull()].copy()\n",
    "    \n",
    "    # Filter out incorrect H serotypes\n",
    "    filter_s = (df['given_H'].str[1:].astype(float)<=56) | df['given_H'].isnull()\n",
    "    filter_s2 = (df['given_O'].str[1:].astype(float)<=186) | df['given_O'].isnull()\n",
    "    df = df[filter_s & filter_s2]\n",
    "    return df"
   ]
  },
  {
   "cell_type": "code",
   "execution_count": 4,
   "metadata": {},
   "outputs": [],
   "source": [
    "# Enterobase only functions\n",
    "def remove_blacklist_genomes(df):\n",
    "    start_count = df.shape[0]\n",
    "    print('Start with %d rows' %(start_count))\n",
    "    df = df[~df.blacklisted]\n",
    "    print('%d rows removed for blacklisted genome' %(start_count-df.shape[0]))\n",
    "    print('End with %d rows' %(df.shape[0]))\n",
    "    return df\n",
    "\n",
    "def mark_blacklist_genomes(df, blacklist_file):\n",
    "    blacklist_df = pd.read_csv(blacklist_file)\n",
    "    df = df.merge(blacklist_df, on='genome_name', how='outer', indicator=True)\n",
    "    df['blacklisted'] = df._merge!='left_only'\n",
    "    df.drop('_merge', axis=1, inplace=True)\n",
    "    return df\n",
    "\n",
    "def read_info_df(file):\n",
    "    # Read info df\n",
    "    df = pd.read_csv(file).drop('Unnamed: 0', axis=1)\n",
    "    df.columns = ['genome_name', 'given_H', 'given_O', 'serotype_tag']\n",
    "    df.given_H='H'+df.loc[df.given_H.notnull()].given_H.astype(int).astype(str)\n",
    "    df.given_O='O'+df.loc[df.given_O.notnull()].given_O.astype(int).astype(str)\n",
    "    df = mark_blacklist_genomes(df, 'blacklist.csv')\n",
    "    return df\n",
    "\n",
    "def read_output_file(file):\n",
    "    # Read from result file\n",
    "    df = pd.read_csv(file)\n",
    "    df = df[['index', 'O_prediction', 'O_info', 'H_prediction', 'H_info']]\n",
    "    df.columns = ['genome_name', 'predicted_O', 'O_info', 'predicted_H', 'H_info']\n",
    "    df.loc[df.predicted_O=='-', 'predicted_O'] = np.nan\n",
    "    df.loc[df.predicted_H=='-', 'predicted_H'] = np.nan\n",
    "    return df\n",
    "\n",
    "def create_merge_df(info_file, output_file):\n",
    "    # merge with info file\n",
    "    df = read_output_file(output_file)\n",
    "    df2 = read_info_df(info_file)\n",
    "    df = df.merge(df2, on='genome_name', how='inner')\n",
    "    df = df[['genome_name', 'given_O', 'predicted_O', 'O_info', 'given_H', 'predicted_H', 'H_info', 'serotype_tag', 'blacklisted']]\n",
    "    return df"
   ]
  },
  {
   "cell_type": "code",
   "execution_count": 5,
   "metadata": {},
   "outputs": [
    {
     "name": "stdout",
     "output_type": "stream",
     "text": [
      "Genbank 97 97:\n",
      "number of given_O serotypes is 535\n",
      "number of unpredicted_O serotypes is 26 or 4.86%\n",
      "number of correctly predicted_O serotypes is 504 or 94.21%\n",
      "number of incorrectly predicted_O serotypes is 5 or 0.93%\n",
      "number of given_H serotypes is 387\n",
      "number of unpredicted_H serotypes is 15 or 3.88%\n",
      "number of correctly predicted_H serotypes is 368 or 95.09%\n",
      "number of incorrectly predicted_H serotypes is 4 or 1.03%\n",
      "Overall concordance=94.58%(872/922)\n",
      "Overall discrepancies=0.98%(9/922)\n"
     ]
    }
   ],
   "source": [
    "print(\"Genbank 97 97:\")\n",
    "mapping_df = parse_assembly_summary('assembly_summary.csv')[['genome_name', 'organism_name', 'infraspecific_name','given_O', 'given_H']]\n",
    "output_df = pd.read_csv('output/genbank/output.csv')\n",
    "output_df['genome_name']=output_df['index'].str.split('_genomic').str[0]\n",
    "output_df.drop('index', axis=1, inplace=True)\n",
    "output_df = output_df[['O_prediction', 'O_info', 'H_prediction', 'H_info', 'genome_name']]\n",
    "output_df.columns = ['predicted_O', 'O_info', 'predicted_H', 'H_info', 'genome_name']\n",
    "output_df.loc[output_df.predicted_O=='-', 'predicted_O'] = np.nan\n",
    "output_df.loc[output_df.predicted_H=='-', 'predicted_H'] = np.nan\n",
    "merge_df = mapping_df.merge(output_df, on='genome_name', how='inner')\n",
    "results = summarize_result(merge_df)"
   ]
  },
  {
   "cell_type": "code",
   "execution_count": 6,
   "metadata": {},
   "outputs": [
    {
     "name": "stdout",
     "output_type": "stream",
     "text": [
      "Genbank 90 50:\n",
      "number of given_O serotypes is 535\n",
      "number of unpredicted_O serotypes is 15 or 2.80%\n",
      "number of correctly predicted_O serotypes is 515 or 96.26%\n",
      "number of incorrectly predicted_O serotypes is 5 or 0.93%\n",
      "number of given_H serotypes is 387\n",
      "number of unpredicted_H serotypes is 2 or 0.52%\n",
      "number of correctly predicted_H serotypes is 381 or 98.45%\n",
      "number of incorrectly predicted_H serotypes is 4 or 1.03%\n",
      "Overall concordance=97.18%(896/922)\n",
      "Overall discrepancies=0.98%(9/922)\n"
     ]
    }
   ],
   "source": [
    "print(\"Genbank 90 50:\")\n",
    "mapping_df = parse_assembly_summary('assembly_summary.csv')[['genome_name', 'organism_name', 'infraspecific_name','given_O', 'given_H']]\n",
    "output_df = pd.read_csv('output/genbank9050/output.csv')\n",
    "output_df['genome_name']=output_df['index'].str.split('_genomic').str[0]\n",
    "output_df.drop('index', axis=1, inplace=True)\n",
    "output_df = output_df[['O_prediction', 'O_info', 'H_prediction', 'H_info', 'genome_name']]\n",
    "output_df.columns = ['predicted_O', 'O_info', 'predicted_H', 'H_info', 'genome_name']\n",
    "output_df.loc[output_df.predicted_O=='-', 'predicted_O'] = np.nan\n",
    "output_df.loc[output_df.predicted_H=='-', 'predicted_H'] = np.nan\n",
    "merge_df = mapping_df.merge(output_df, on='genome_name', how='inner')\n",
    "results = summarize_result(merge_df)"
   ]
  },
  {
   "cell_type": "code",
   "execution_count": 7,
   "metadata": {},
   "outputs": [
    {
     "name": "stdout",
     "output_type": "stream",
     "text": [
      "Enterobase 97 97:\n",
      "Start with 5844 rows\n",
      "489 rows removed for blacklisted genome\n",
      "End with 5355 rows\n",
      "number of given_O serotypes is 5223\n",
      "number of unpredicted_O serotypes is 827 or 15.83%\n",
      "number of correctly predicted_O serotypes is 4233 or 81.05%\n",
      "number of incorrectly predicted_O serotypes is 163 or 3.12%\n",
      "number of given_H serotypes is 2570\n",
      "number of unpredicted_H serotypes is 44 or 1.71%\n",
      "number of correctly predicted_H serotypes is 2384 or 92.76%\n",
      "number of incorrectly predicted_H serotypes is 142 or 5.53%\n",
      "Overall concordance=84.91%(6617/7793)\n",
      "Overall discrepancies=3.91%(305/7793)\n"
     ]
    }
   ],
   "source": [
    "print(\"Enterobase 97 97:\")\n",
    "merge_df = create_merge_df('enterobase_serotype.csv', 'output/enterobase/output.csv')\n",
    "merge_df = remove_blacklist_genomes(merge_df)\n",
    "results = summarize_result(merge_df)"
   ]
  },
  {
   "cell_type": "code",
   "execution_count": 8,
   "metadata": {},
   "outputs": [
    {
     "name": "stdout",
     "output_type": "stream",
     "text": [
      "Enterobase 90 50:\n",
      "Start with 5844 rows\n",
      "489 rows removed for blacklisted genome\n",
      "End with 5355 rows\n",
      "number of given_O serotypes is 5223\n",
      "number of unpredicted_O serotypes is 532 or 10.19%\n",
      "number of correctly predicted_O serotypes is 4474 or 85.66%\n",
      "number of incorrectly predicted_O serotypes is 217 or 4.15%\n",
      "number of given_H serotypes is 2570\n",
      "number of unpredicted_H serotypes is 6 or 0.23%\n",
      "number of correctly predicted_H serotypes is 2416 or 94.01%\n",
      "number of incorrectly predicted_H serotypes is 148 or 5.76%\n",
      "Overall concordance=88.41%(6890/7793)\n",
      "Overall discrepancies=4.68%(365/7793)\n"
     ]
    }
   ],
   "source": [
    "print(\"Enterobase 90 50:\")\n",
    "merge_df = create_merge_df('enterobase_serotype.csv', 'output/enterobase 9050/output.csv')\n",
    "merge_df = remove_blacklist_genomes(merge_df)\n",
    "results = summarize_result(merge_df)"
   ]
  }
 ],
 "metadata": {
  "kernelspec": {
   "display_name": "Python 3",
   "language": "python",
   "name": "python3"
  },
  "language_info": {
   "codemirror_mode": {
    "name": "ipython",
    "version": 3
   },
   "file_extension": ".py",
   "mimetype": "text/x-python",
   "name": "python",
   "nbconvert_exporter": "python",
   "pygments_lexer": "ipython3",
   "version": "3.6.3"
  }
 },
 "nbformat": 4,
 "nbformat_minor": 2
}
