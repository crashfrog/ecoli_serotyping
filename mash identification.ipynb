{
 "cells": [
  {
   "cell_type": "code",
   "execution_count": 1,
   "metadata": {},
   "outputs": [],
   "source": [
    "import os\n",
    "import sys\n",
    "import tempfile\n",
    "\n",
    "import pandas as pd\n",
    "from Bio import SeqIO\n",
    "sys.path.append(os.path.join(os.path.curdir, \"..\"))\n",
    "from ectyper import speciesIdentification, loggingFunctions\n",
    "import subprocess\n",
    "from tqdm import tqdm\n",
    "import logging"
   ]
  },
  {
   "cell_type": "code",
   "execution_count": 2,
   "metadata": {},
   "outputs": [
    {
     "name": "stderr",
     "output_type": "stream",
     "text": [
      "0it [00:00, ?it/s]\n"
     ]
    },
    {
     "name": "stdout",
     "output_type": "stream",
     "text": [
      "Logger initialized. Debug log stored at mash_identification.log\n",
      "No matching species found with distance estimation.\n",
      "/home/sam/Projects/ecoli_serotyping/script/temp_dir/ESC_GA9216AA_AS.fasta is identified as [205 seqs] NZ_LDXI01000001.1 Escherichia coli strain 36084 36084_contig000001, whole genome shotgun sequence [...]\n"
     ]
    }
   ],
   "source": [
    "LOG = logging.getLogger()\n",
    "\n",
    "loggingFunctions.initialize_logging('mash_identification.log')\n",
    "genome_dir = '/home/sam/Projects/MoreSerotype/temp/genomes'\n",
    "genomes = os.listdir(genome_dir)\n",
    "species_results = []\n",
    "genome = 'ESC_GA9216AA_AS.fasta'\n",
    "genome_file = os.path.join(genome_dir, genome)\n",
    "if os.path.getsize(genome_file) < 1000:\n",
    "    LOG.info(\"%s is too small.\", genome_file)\n",
    "temp_dir = '/home/sam/Projects/ecoli_serotyping/script/temp_dir'\n",
    "new_file = os.path.join(temp_dir, genome)\n",
    "new_fh = open(new_file,'w')\n",
    "header = '> %s\\n' %genome\n",
    "new_fh.write(header)\n",
    "for record in SeqIO.parse(genome_file, 'fasta'):\n",
    "    new_fh.write(str(record.seq))\n",
    "    new_fh.write('nnnnnnnnnnnnnnnnnnnn')\n",
    "new_fh.close()\n",
    "genome_name = os.path.basename(genome)\n",
    "try:\n",
    "    species = speciesIdentification.get_species(new_file)\n",
    "except subprocess.CalledProcessError as err:\n",
    "    LOG.debug(err.stderr, err.stdout)\n",
    "    species = ''\n",
    "new_entry = {\n",
    "    'genome name':genome_name,\n",
    "    'species':species\n",
    "}\n",
    "species_results.append(new_entry)\n",
    "df = pd.DataFrame(species_results)\n",
    "df.to_csv('species_results.csv')"
   ]
  },
  {
   "cell_type": "code",
   "execution_count": 3,
   "metadata": {},
   "outputs": [],
   "source": [
    "df = pd.DataFrame(species_results)\n",
    "df.to_csv('species_results.csv')"
   ]
  },
  {
   "cell_type": "code",
   "execution_count": null,
   "metadata": {
    "collapsed": true
   },
   "outputs": [],
   "source": []
  }
 ],
 "metadata": {
  "kernelspec": {
   "display_name": "Python 3",
   "language": "python",
   "name": "python3"
  },
  "language_info": {
   "codemirror_mode": {
    "name": "ipython",
    "version": 3
   },
   "file_extension": ".py",
   "mimetype": "text/x-python",
   "name": "python",
   "nbconvert_exporter": "python",
   "pygments_lexer": "ipython3",
   "version": "3.6.2"
  }
 },
 "nbformat": 4,
 "nbformat_minor": 2
}
